{
 "cells": [
  {
   "cell_type": "markdown",
   "id": "b74197aa",
   "metadata": {},
   "source": [
    "# 환경 설정\n",
    "\n",
    "> pip install opencv-python"
   ]
  },
  {
   "cell_type": "code",
   "execution_count": 1,
   "id": "ca3da34e",
   "metadata": {},
   "outputs": [
    {
     "data": {
      "text/plain": [
       "'4.5.5'"
      ]
     },
     "execution_count": 1,
     "metadata": {},
     "output_type": "execute_result"
    }
   ],
   "source": [
    "import cv2\n",
    "cv2.__version__"
   ]
  },
  {
   "cell_type": "markdown",
   "id": "fedd642f",
   "metadata": {},
   "source": [
    "# OpenCV (Computer Vision)\n",
    "다양한 영상 (이미지) / 동영상 처리에 사용되는 오픈소스 라이브러리"
   ]
  },
  {
   "cell_type": "markdown",
   "id": "136a5d99",
   "metadata": {},
   "source": [
    "# 1. 이미지 출력"
   ]
  },
  {
   "cell_type": "code",
   "execution_count": 1,
   "id": "67beeeed",
   "metadata": {},
   "outputs": [
    {
     "name": "stdout",
     "output_type": "stream",
     "text": [
      "0\n",
      "0\n",
      "0\n",
      "119\n",
      "113\n",
      "27\n"
     ]
    }
   ],
   "source": [
    "import cv2\n",
    "img = cv2.imread('img.jpg') # 해당 경로의 파일 읽어오기\n",
    "cv2.imshow('img', img) # img 라는 이름의 창에 img를 표시\n",
    "\n",
    "while True:\n",
    "    key = cv2.waitKey(0) # 지정된 시간 동안 사용자 키 입력 대기 ex ) 0은 무한대로 기다리라는 뜻\n",
    "    print(key)\n",
    "    if key == 27:\n",
    "        cv2.destroyAllWindows() # 위에서 띄운 모든 창 닫기\n",
    "        break"
   ]
  },
  {
   "cell_type": "markdown",
   "id": "90ea2d21",
   "metadata": {},
   "source": [
    "## 읽기 옵션\n",
    "1. cv2.IMREAD_COLOR : 컬러 이미지, 투명 영역은 무시 (기본값)\n",
    "2. cv2.IMREAD_GRAYSCALE : 흑백 이미지\n",
    "3. cv2 IMREAD_UNCHANGED : 투명 영역까지 포함"
   ]
  },
  {
   "cell_type": "code",
   "execution_count": 4,
   "id": "ef7277d4",
   "metadata": {},
   "outputs": [],
   "source": [
    "img_color = cv2.imread(\"img.jpg\",cv2.IMREAD_COLOR )\n",
    "img_gray = cv2.imread(\"img.jpg\",cv2.IMREAD_GRAYSCALE )\n",
    "img_unchanged = cv2.imread(\"img.jpg\",cv2.IMREAD_UNCHANGED )\n",
    "\n",
    "cv2.imshow(\"img_color\", img_color)\n",
    "cv2.imshow(\"img_gray\", img_gray)\n",
    "cv2.imshow(\"img_unchanged\", img_unchanged)\n",
    "\n",
    "cv2.waitKey(0)\n",
    "cv2.destroyAllWindows()"
   ]
  },
  {
   "cell_type": "markdown",
   "id": "539d20f6",
   "metadata": {},
   "source": [
    "## Shape\n",
    "이미지의 height, width, channel 정보"
   ]
  },
  {
   "cell_type": "code",
   "execution_count": 5,
   "id": "15a57b27",
   "metadata": {},
   "outputs": [
    {
     "data": {
      "text/plain": [
       "(390, 640, 3)"
      ]
     },
     "execution_count": 5,
     "metadata": {},
     "output_type": "execute_result"
    }
   ],
   "source": [
    "import cv2\n",
    "img = cv2.imread(\"img.jpg\")\n",
    "img.shape # 세로, 가로, channel ex) jpg였기에 rgb 라서 3으로 표현됨"
   ]
  }
 ],
 "metadata": {
  "kernelspec": {
   "display_name": "Python 3.9.7 ('rpa')",
   "language": "python",
   "name": "python3"
  },
  "language_info": {
   "codemirror_mode": {
    "name": "ipython",
    "version": 3
   },
   "file_extension": ".py",
   "mimetype": "text/x-python",
   "name": "python",
   "nbconvert_exporter": "python",
   "pygments_lexer": "ipython3",
   "version": "3.9.7"
  },
  "vscode": {
   "interpreter": {
    "hash": "4fc291274a72775b7a85d11ad64b08c10f57fcae2635368dead56caa3bdbb057"
   }
  }
 },
 "nbformat": 4,
 "nbformat_minor": 5
}
