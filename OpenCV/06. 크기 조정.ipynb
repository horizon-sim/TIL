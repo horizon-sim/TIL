{
 "cells": [
  {
   "cell_type": "markdown",
   "metadata": {},
   "source": [
    "# 크기 조정"
   ]
  },
  {
   "cell_type": "markdown",
   "metadata": {},
   "source": [
    "## 이미지"
   ]
  },
  {
   "cell_type": "markdown",
   "metadata": {},
   "source": [
    "고정 크기로 설정"
   ]
  },
  {
   "cell_type": "code",
   "execution_count": 1,
   "metadata": {},
   "outputs": [],
   "source": [
    "import cv2\n",
    "\n",
    "img = cv2.imread(\"img.jpg\")\n",
    "dst = cv2.resize(img, (400, 500)) # width, height 고정 크기\n",
    "\n",
    "cv2.imshow(\"img\", img)\n",
    "cv2.imshow(\"resize\", dst)\n",
    "\n",
    "cv2.waitKey(0)\n",
    "cv2.destroyAllWindows()"
   ]
  },
  {
   "cell_type": "markdown",
   "metadata": {},
   "source": [
    "비율로 설정"
   ]
  },
  {
   "cell_type": "code",
   "execution_count": 2,
   "metadata": {},
   "outputs": [],
   "source": [
    "import cv2\n",
    "\n",
    "img = cv2.imread(\"img.jpg\")\n",
    "dst = cv2.resize(img, None, fx=0.5, fy=0.5) # xy 비율 정의 (0.5 배로 축소)\n",
    "\n",
    "cv2.imshow(\"img\", img)\n",
    "cv2.imshow(\"resize\", dst)\n",
    "\n",
    "cv2.waitKey(0)\n",
    "cv2.destroyAllWindows()"
   ]
  },
  {
   "cell_type": "markdown",
   "metadata": {},
   "source": [
    "## 보간법\n",
    "1. cv2.INTER_AREA : 크기 줄일 때 사용\n",
    "2. cv2.INTER_CUBIC : 크기 늘릴 떄 사용 (속도 느림, 퀄리티 좋음)\n",
    "3. cv2.INTER_LINEAR : 크기 늘릴 때 사용 (기본값)"
   ]
  },
  {
   "cell_type": "markdown",
   "metadata": {},
   "source": [
    "보간법 적용하여 축소"
   ]
  },
  {
   "cell_type": "code",
   "execution_count": 3,
   "metadata": {},
   "outputs": [],
   "source": [
    "import cv2\n",
    "\n",
    "img = cv2.imread(\"img.jpg\")\n",
    "\n",
    "# interpolation <- 보간법\n",
    "dst = cv2.resize(img, None, fx=0.5, fy=0.5, interpolation = cv2.INTER_AREA) # xy 비율 정의 (0.5 배로 축소)\n",
    "\n",
    "cv2.imshow(\"img\", img)\n",
    "cv2.imshow(\"resize\", dst)\n",
    "\n",
    "cv2.waitKey(0)\n",
    "cv2.destroyAllWindows()"
   ]
  },
  {
   "cell_type": "markdown",
   "metadata": {},
   "source": [
    "보간법 적용하여 확대"
   ]
  },
  {
   "cell_type": "code",
   "execution_count": 4,
   "metadata": {},
   "outputs": [],
   "source": [
    "import cv2\n",
    "\n",
    "img = cv2.imread(\"img.jpg\")\n",
    "\n",
    "# interpolation <- 보간법\n",
    "dst = cv2.resize(img, None, fx=1.5, fy=1.5, interpolation = cv2.INTER_CUBIC) # xy 비율 정의 (1.5 배로 확대)\n",
    "\n",
    "cv2.imshow(\"img\", img)\n",
    "cv2.imshow(\"resize\", dst)\n",
    "\n",
    "cv2.waitKey(0)\n",
    "cv2.destroyAllWindows()"
   ]
  },
  {
   "cell_type": "markdown",
   "metadata": {},
   "source": [
    "### 동영상"
   ]
  },
  {
   "cell_type": "markdown",
   "metadata": {},
   "source": [
    "고정 크기로 설정"
   ]
  },
  {
   "cell_type": "code",
   "execution_count": 2,
   "metadata": {},
   "outputs": [
    {
     "name": "stdout",
     "output_type": "stream",
     "text": [
      "사용자 입력에 의해 종료합니다.\n"
     ]
    }
   ],
   "source": [
    "import cv2\n",
    "\n",
    "cap = cv2.VideoCapture(\"video.mp4\")\n",
    "\n",
    "while cap.isOpened(): # 동영상 파일이 올바로 열렸는지?\n",
    "    ret, frame = cap.read() # ret : 성공 여부, frame : 받아온 이미지 (프레임)\n",
    "    if not ret:\n",
    "        print(\"더 이상 가져올 프레임이 없어요\")\n",
    "        break\n",
    "        \n",
    "    \n",
    "    frame_resized = cv2.resize(frame, (400, 500))\n",
    "    cv2.imshow(\"video\", frame_resized)\n",
    "    \n",
    "    if cv2.waitKey(1) == ord(\"q\"): # ord 아스키코드 변경해주는 함수\n",
    "        print(\"사용자 입력에 의해 종료합니다.\")\n",
    "        break\n",
    "        \n",
    "cap.release() # 자원 해제\n",
    "cv2.destroyAllWindows() # 모든 창 닫기"
   ]
  },
  {
   "cell_type": "markdown",
   "metadata": {},
   "source": [
    "비율로 설정"
   ]
  },
  {
   "cell_type": "code",
   "execution_count": 7,
   "metadata": {},
   "outputs": [
    {
     "name": "stdout",
     "output_type": "stream",
     "text": [
      "더 이상 가져올 프레임이 없어요\n"
     ]
    }
   ],
   "source": [
    "from cv2 import INTER_CUBIC\n",
    "\n",
    "\n",
    "cap = cv2.VideoCapture(\"video.mp4\")\n",
    "\n",
    "while cap.isOpened(): # 동영상 파일이 올바로 열렸는지?\n",
    "    ret, frame = cap.read() # ret : 성공 여부, frame : 받아온 이미지 (프레임)\n",
    "    if not ret:\n",
    "        print(\"더 이상 가져올 프레임이 없어요\")\n",
    "        break\n",
    "        \n",
    "    \n",
    "    frame_resized = cv2.resize(frame, None, fx=1.5, fy=1.5, interpolation = cv2.INTER_CUBIC)\n",
    "    cv2.imshow(\"video\", frame_resized)\n",
    "    \n",
    "    if cv2.waitKey(1) == ord(\"q\"): # ord 아스키코드 변경해주는 함수\n",
    "        print(\"사용자 입력에 의해 종료합니다.\")\n",
    "        break\n",
    "        \n",
    "cap.release() # 자원 해제\n",
    "cv2.destroyAllWindows() # 모든 창 닫기"
   ]
  }
 ],
 "metadata": {
  "kernelspec": {
   "display_name": "Python 3.9.7 ('rpa')",
   "language": "python",
   "name": "python3"
  },
  "language_info": {
   "codemirror_mode": {
    "name": "ipython",
    "version": 3
   },
   "file_extension": ".py",
   "mimetype": "text/x-python",
   "name": "python",
   "nbconvert_exporter": "python",
   "pygments_lexer": "ipython3",
   "version": "3.9.7"
  },
  "orig_nbformat": 4,
  "vscode": {
   "interpreter": {
    "hash": "4fc291274a72775b7a85d11ad64b08c10f57fcae2635368dead56caa3bdbb057"
   }
  }
 },
 "nbformat": 4,
 "nbformat_minor": 2
}
