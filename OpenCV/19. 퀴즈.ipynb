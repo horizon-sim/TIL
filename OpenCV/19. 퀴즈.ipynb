{
 "cells": [
  {
   "cell_type": "markdown",
   "metadata": {},
   "source": [
    "# 퀴즈"
   ]
  },
  {
   "cell_type": "markdown",
   "metadata": {},
   "source": [
    "### OpenCV를 이용하여 가로로 촬영된 영상을 세로로 회전하는 프로그램을 작성하시오"
   ]
  },
  {
   "cell_type": "markdown",
   "metadata": {},
   "source": [
    "#### 조건\n",
    "1. 회전 : 시계 반대방향으로 90도\n",
    "2. 재생속도(FPS) : 원본 x 4배\n",
    "3. 출력 파일명 : city_output.avi(코덱 : DIVX)"
   ]
  },
  {
   "cell_type": "code",
   "execution_count": 23,
   "metadata": {},
   "outputs": [],
   "source": [
    "import cv2\n",
    "\n",
    "cap = cv2.VideoCapture(\"video1.mp4\")\n",
    "\n",
    "# 코덱 정의\n",
    "fourcc = cv2.VideoWriter_fourcc(*'DIVX') # *'DIVX' == 'D', 'I', 'V', 'X'\n",
    "\n",
    "width = round(cap.get(cv2.CAP_PROP_FRAME_WIDTH))\n",
    "height = round(cap.get(cv2.CAP_PROP_FRAME_HEIGHT))\n",
    "fps = cap.get(cv2.CAP_PROP_FPS)\n",
    "\n",
    "out = cv2.VideoWriter('result.avi', fourcc, fps, (height, width))\n",
    "\n",
    "while cap.isOpened(): # 동영상 파일이 올바로 열렸는지?\n",
    "    ret, frame = cap.read() # ret : 성공 여부, frame : 받아온 이미지 (프레임)\n",
    "    if not ret:\n",
    "        break\n",
    "        \n",
    "    rotate_frame = cv2.rotate(frame, cv2.ROTATE_90_COUNTERCLOCKWISE)\n",
    "    \n",
    "    out.write(rotate_frame)\n",
    "    cv2.imshow(\"video1\", frame)\n",
    "    \n",
    "    if cv2.waitKey(1) == ord(\"q\"): # ord 아스키코드 변경해주는 함수\n",
    "        break\n",
    "        \n",
    "out.release()\n",
    "cap.release() # 자원 해제\n",
    "cv2.destroyAllWindows() # 모든 창 닫기"
   ]
  }
 ],
 "metadata": {
  "kernelspec": {
   "display_name": "Python 3.9.7 ('rpa')",
   "language": "python",
   "name": "python3"
  },
  "language_info": {
   "codemirror_mode": {
    "name": "ipython",
    "version": 3
   },
   "file_extension": ".py",
   "mimetype": "text/x-python",
   "name": "python",
   "nbconvert_exporter": "python",
   "pygments_lexer": "ipython3",
   "version": "3.9.7"
  },
  "orig_nbformat": 4,
  "vscode": {
   "interpreter": {
    "hash": "4fc291274a72775b7a85d11ad64b08c10f57fcae2635368dead56caa3bdbb057"
   }
  }
 },
 "nbformat": 4,
 "nbformat_minor": 2
}
