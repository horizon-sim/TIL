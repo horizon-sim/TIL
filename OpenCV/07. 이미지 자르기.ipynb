{
 "cells": [
  {
   "cell_type": "markdown",
   "metadata": {},
   "source": [
    "# 7. 이미지 자르기"
   ]
  },
  {
   "cell_type": "markdown",
   "metadata": {},
   "source": [
    "영역을 잘라서 새로운 윈도우(창)에 표시"
   ]
  },
  {
   "cell_type": "code",
   "execution_count": 3,
   "metadata": {},
   "outputs": [],
   "source": [
    "import cv2\n",
    "\n",
    "img = cv2.imread(\"img.jpg\")\n",
    "# img.shape (390, 604, 3)\n",
    "\n",
    "crop = img[100:200, 200:400] # 세로 기준 100:200 까지, 가로기준 200:400 까지 자름\n",
    "\n",
    "cv2.imshow(\"img\", img)\n",
    "cv2.imshow(\"crop\", crop)\n",
    "\n",
    "\n",
    "cv2.waitKey(0)\n",
    "cv2.destroyAllWindows()"
   ]
  },
  {
   "cell_type": "markdown",
   "metadata": {},
   "source": [
    "영역을 잘라서 기존 윈도우에 표시"
   ]
  },
  {
   "cell_type": "code",
   "execution_count": 10,
   "metadata": {},
   "outputs": [],
   "source": [
    "img = cv2.imread(\"img.jpg\")\n",
    "\n",
    "crop = img[100:200, 200:400] # 세로 기준 100:200 까지, 가로기준 200:400 까지 자름\n",
    "img[100:200, 400:600] = crop\n",
    "\n",
    "cv2.imshow(\"img\", img)\n",
    "\n",
    "\n",
    "cv2.waitKey(0)\n",
    "cv2.destroyAllWindows()"
   ]
  }
 ],
 "metadata": {
  "kernelspec": {
   "display_name": "Python 3.9.7 ('rpa')",
   "language": "python",
   "name": "python3"
  },
  "language_info": {
   "codemirror_mode": {
    "name": "ipython",
    "version": 3
   },
   "file_extension": ".py",
   "mimetype": "text/x-python",
   "name": "python",
   "nbconvert_exporter": "python",
   "pygments_lexer": "ipython3",
   "version": "3.9.7"
  },
  "orig_nbformat": 4,
  "vscode": {
   "interpreter": {
    "hash": "4fc291274a72775b7a85d11ad64b08c10f57fcae2635368dead56caa3bdbb057"
   }
  }
 },
 "nbformat": 4,
 "nbformat_minor": 2
}
