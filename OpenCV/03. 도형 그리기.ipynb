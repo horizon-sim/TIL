{
 "cells": [
  {
   "cell_type": "markdown",
   "metadata": {},
   "source": [
    "# 3. 도형그리기"
   ]
  },
  {
   "cell_type": "markdown",
   "metadata": {},
   "source": [
    "## 빈 스케치북 만들기"
   ]
  },
  {
   "cell_type": "code",
   "execution_count": 7,
   "metadata": {},
   "outputs": [],
   "source": [
    "import cv2\n",
    "import numpy as np\n",
    "\n",
    "# 세로 480 x 가로 640, 3 channel (RGB) 에 해당하는 스케치북 만들기 여기선 BGR로 표시\n",
    "img = np.zeros((480, 640, 3), dtype=np.uint8) # 0으로 공간을 채워라\n",
    "# img[:] = (255, 255, 255) # 전체 공간을 흰색으로 채우기\n",
    "# print(img)\n",
    "\n",
    "cv2.imshow(\"img\", img)\n",
    "cv2.waitKey(0)\n",
    "cv2.destroyAllWindows()"
   ]
  },
  {
   "cell_type": "markdown",
   "metadata": {},
   "source": [
    "## 일부 영역 색칠"
   ]
  },
  {
   "cell_type": "code",
   "execution_count": 8,
   "metadata": {},
   "outputs": [],
   "source": [
    "img = np.zeros((480, 640, 3), dtype=np.uint8) # 0으로 공간을 채워라\n",
    "img[100:200, 200:300] = (0, 255, 0) # 세로기준으로 100~200까지 가로기준으로 200~300까지 초록색으로 칠하라\n",
    "# [세로 영역, 가로 영역]\n",
    "\n",
    "cv2.imshow(\"img\", img)\n",
    "cv2.waitKey(0)\n",
    "cv2.destroyAllWindows()"
   ]
  },
  {
   "cell_type": "markdown",
   "metadata": {},
   "source": [
    "## 직선\n",
    "직선의 종류 (line type)\n",
    "\n",
    "1. cv2.LINE_4 : 상하좌우 네 방향으로 연결된 선\n",
    "2. cv2.LINE_8 : 대각선을 포함한 여덟방향으로 연결된 선 (기본값)\n",
    "3. cv2.LINE_AA : 부드러운 선 (anti-aliasing)"
   ]
  },
  {
   "cell_type": "code",
   "execution_count": 11,
   "metadata": {},
   "outputs": [],
   "source": [
    "img = np.zeros((480, 640, 3), dtype=np.uint8)\n",
    "\n",
    "COLOR = (0, 255, 255) # BGR 색깔\n",
    "THICKNESS = 3 # 두께\n",
    "\n",
    "# cv2.line(그릴 위치, 시작 점, 끝 점, 색깔, 두께, 선종류)\n",
    "cv2.line(img, (50, 100), (400, 50), COLOR, THICKNESS, cv2.LINE_8)\n",
    "\n",
    "cv2.line(img, (50, 200), (400, 150), COLOR, THICKNESS, cv2.LINE_4)\n",
    "cv2.line(img, (50, 300), (400, 250), COLOR, THICKNESS, cv2.LINE_AA)\n",
    "\n",
    "cv2.imshow(\"img\", img)\n",
    "cv2.waitKey(0)\n",
    "cv2.destroyAllWindows()"
   ]
  },
  {
   "cell_type": "markdown",
   "metadata": {},
   "source": [
    "## 원"
   ]
  },
  {
   "cell_type": "code",
   "execution_count": 16,
   "metadata": {},
   "outputs": [],
   "source": [
    "img = np.zeros((480, 640, 3), dtype=np.uint8)\n",
    "\n",
    "COLOR = (255, 255, 0) # BGR 색깔\n",
    "RADIUS = 50 # 반지름\n",
    "THICKNESS = 5 # 두께\n",
    "\n",
    "# cv2.circle(그릴 위치, 원의 중심, 반지름, 색깔, 두께, 선종류)\n",
    "cv2.circle(img, (200, 100), RADIUS, COLOR, THICKNESS, cv2.LINE_AA)\n",
    "\n",
    "# cv2.FILLED 는 속이 꽉찬 원\n",
    "cv2.circle(img, (400, 100), RADIUS, COLOR, cv2.FILLED, cv2.LINE_AA)\n",
    "\n",
    "cv2.imshow(\"img\", img)\n",
    "cv2.waitKey(0)\n",
    "cv2.destroyAllWindows()"
   ]
  },
  {
   "cell_type": "markdown",
   "metadata": {},
   "source": [
    "## 사각형"
   ]
  },
  {
   "cell_type": "code",
   "execution_count": 26,
   "metadata": {},
   "outputs": [],
   "source": [
    "img = np.zeros((480, 640, 3), dtype=np.uint8)\n",
    "\n",
    "COLOR = (0, 255, 0) # BGR 색깔\n",
    "THICKNESS = 5 # 두께\n",
    "\n",
    "# cv2.circle(그릴 위치, 왼쪽 위 좌표, 오른쪽 아래 좌표, 색깔, 두께)\n",
    "cv2.rectangle(img, (100, 100), (200, 200), COLOR, THICKNESS) # 속이 빈 사각형\n",
    "\n",
    "cv2.rectangle(img, (300, 100), (400, 200), COLOR, cv2.FILLED) # 속이 꽉 찬 사각형\n",
    "\n",
    "\n",
    "cv2.imshow(\"img\", img)\n",
    "cv2.waitKey(0)\n",
    "cv2.destroyAllWindows()"
   ]
  },
  {
   "cell_type": "markdown",
   "metadata": {},
   "source": [
    "## 다각형"
   ]
  },
  {
   "cell_type": "code",
   "execution_count": 34,
   "metadata": {},
   "outputs": [],
   "source": [
    "img = np.zeros((480, 640, 3), dtype=np.uint8)\n",
    "\n",
    "COLOR = (0, 0, 255) # BGR 색깔\n",
    "THICKNESS = 5 # 두께\n",
    "\n",
    "pts1 = np.array([[100, 100], [200, 100], [100, 200]])\n",
    "pts2 = np.array([[200, 100], [300, 100], [300, 200]])\n",
    "\n",
    "# cv2.polylines(그릴 위치, 좌표(여러개 합치기 가능), 닫힌도형 여부, 색깔, 두께, 선 종류)\n",
    "\n",
    "# cv2.polylines(img, [pts1], True, COLOR, THICKNESS, cv2.LINE_AA)\n",
    "# cv2.polylines(img, [pts2], True, COLOR, THICKNESS, cv2.LINE_AA)\n",
    "\n",
    "# 한방에 합치기 가능\n",
    "cv2.polylines(img, [pts1, pts2], True, COLOR, THICKNESS, cv2.LINE_AA)\n",
    "\n",
    "cv2.fillPoly(img, [pts1, pts2], COLOR, cv2.LINE_AA)\n",
    "\n",
    "cv2.imshow(\"img\", img)\n",
    "cv2.waitKey(0)\n",
    "cv2.destroyAllWindows()"
   ]
  }
 ],
 "metadata": {
  "kernelspec": {
   "display_name": "Python 3.9.7 ('rpa')",
   "language": "python",
   "name": "python3"
  },
  "language_info": {
   "codemirror_mode": {
    "name": "ipython",
    "version": 3
   },
   "file_extension": ".py",
   "mimetype": "text/x-python",
   "name": "python",
   "nbconvert_exporter": "python",
   "pygments_lexer": "ipython3",
   "version": "3.9.7"
  },
  "orig_nbformat": 4,
  "vscode": {
   "interpreter": {
    "hash": "4fc291274a72775b7a85d11ad64b08c10f57fcae2635368dead56caa3bdbb057"
   }
  }
 },
 "nbformat": 4,
 "nbformat_minor": 2
}
